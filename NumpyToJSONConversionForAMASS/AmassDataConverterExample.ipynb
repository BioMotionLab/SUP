#%%
# Imports
from AmassDataConverter import AMASSJsonSMPLHDataConverter

#%%
# Point to smpl-h npz animation file.
npzFileName = 'AMASS_Data/20160330_03333/punching_poses.npz'


#%%
# Create converter
converter = AMASSJsonSMPLHDataConverter(npzFileName)


#%%
# Write to output json (full path can be given. this example puts it in current folder)
converter.write_to_json('test_data.json')

#%%
# Second data conversion
sample = "amass_sample.npz"
converter = AMASSJsonSMPLHDataConverter(sample)
converter.write_to_json('amass_sample.json')




# TO CONVERT MODEL.NPZ FILES
#%%

#%%
model_path = 'data/model_smplh-amass_f.npz.npz'

#%%
print(sys.version)
#%%

#%%


