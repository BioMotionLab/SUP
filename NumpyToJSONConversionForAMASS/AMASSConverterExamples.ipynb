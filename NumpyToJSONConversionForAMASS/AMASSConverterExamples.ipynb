{
 "cells": [
  {
   "cell_type": "markdown",
   "source": [
    "## This Script shows how to use the conversion scripts to convert AMASS npz data into a Unity-Friendly JSON file."
   ],
   "metadata": {
    "collapsed": false,
    "pycharm": {
     "name": "#%% md\n"
    }
   }
  },
  {
   "cell_type": "markdown",
   "source": [
    "Note that these scripts were written in python 3.8, and therefore probably require at least python 3.6 to run. \n",
    "You'll need an up-to-date version of scipy package since older versions do not include the scipy.spatial.transform module. \n",
    "\n",
    "Requirements:\n",
    "* scipy\n",
    "* numpy\n",
    "* json\n",
    "\n",
    "Run This cell to make sure you have dependencies installed."
   ],
   "metadata": {
    "collapsed": false
   }
  },
  {
   "cell_type": "code",
   "execution_count": 1,
   "outputs": [
    {
     "name": "stdout",
     "text": [
      "scipy version 1.4.1, good\n",
      "numpy version 1.18.1, good\n",
      "json version 2.0.9, good\n"
     ],
     "output_type": "stream"
    }
   ],
   "source": [
    "# Check dependencies\n",
    "import Converters.version_check_util as vers;\n",
    "import scipy\n",
    "vers.check_version(\"scipy\", scipy.__version__, \"1.4.1\")\n",
    "import numpy\n",
    "vers.check_version(\"numpy\", numpy.__version__, \"1.18.1\")\n",
    "import json\n",
    "vers.check_version(\"json\", json.__version__, \"2.0.9\")\n",
    "\n",
    "# Internal Imports\n",
    "from Converters.AmassData import AMASSDataToJSON\n",
    "from Converters.Regressor import SMPLHRegressorToJSON\n",
    "\n"
   ],
   "metadata": {
    "collapsed": false,
    "pycharm": {
     "name": "#%%\n",
     "is_executing": false
    }
   }
  },
  {
   "cell_type": "markdown",
   "source": [
    "# Convert SMPL-H AMASS animation .npz data files to Unity:"
   ],
   "metadata": {
    "collapsed": false
   }
  },
  {
   "cell_type": "markdown",
   "source": [
    "Point to smpl-h npz animation file"
   ],
   "metadata": {
    "collapsed": false,
    "pycharm": {
     "name": "#%% md\n"
    }
   }
  },
  {
   "cell_type": "code",
   "execution_count": 2,
   "outputs": [],
   "source": [
    "npz_data_filename = 'AMASS_Data/20160330_03333/punching_poses.npz'\n"
   ],
   "metadata": {
    "collapsed": false,
    "pycharm": {
     "name": "#%%\n",
     "is_executing": false
    }
   }
  },
  {
   "cell_type": "markdown",
   "source": [
    "Create converter\n"
   ],
   "metadata": {
    "collapsed": false,
    "pycharm": {
     "name": "#%% md\n"
    }
   }
  },
  {
   "cell_type": "code",
   "execution_count": 3,
   "outputs": [
    {
     "name": "stdout",
     "text": [
      "59.9999885559082\n",
      "gender: female\n",
      "betas: (16,)\n",
      "poses: (234, 156)\n",
      "dmpls: (234, 8)\n",
      "trans: (234, 3)\n",
      "frames detected: 234\n",
      "fps: 60\n"
     ],
     "output_type": "stream"
    }
   ],
   "source": [
    "converter = AMASSDataToJSON(npz_data_filename)\n"
   ],
   "metadata": {
    "collapsed": false,
    "pycharm": {
     "name": "#%%\n",
     "is_executing": false
    }
   }
  },
  {
   "cell_type": "markdown",
   "source": [
    "Write to output json (full path can be given. this example puts it in the current folder)\n"
   ],
   "metadata": {
    "collapsed": false,
    "pycharm": {
     "name": "#%% md\n"
    }
   }
  },
  {
   "cell_type": "code",
   "execution_count": 4,
   "outputs": [],
   "source": [
    "converter.write_to_json('test_data.json')\n"
   ],
   "metadata": {
    "collapsed": false,
    "pycharm": {
     "name": "#%%\n",
     "is_executing": false
    }
   }
  },
  {
   "cell_type": "markdown",
   "source": [
    "Second data conversion example\n"
   ],
   "metadata": {
    "collapsed": false,
    "pycharm": {
     "name": "#%% md\n"
    }
   }
  },
  {
   "cell_type": "code",
   "execution_count": 5,
   "outputs": [
    {
     "name": "stdout",
     "text": [
      "120.0\n",
      "gender: male\n",
      "betas: (16,)\n",
      "poses: (601, 156)\n",
      "dmpls: (601, 8)\n",
      "trans: (601, 3)\n",
      "frames detected: 601\n",
      "fps: 120\n"
     ],
     "output_type": "stream"
    }
   ],
   "source": [
    "sample_data = \"AMASS_Data/amass_sample.npz\"\n",
    "converter = AMASSDataToJSON(sample_data)\n",
    "converter.write_to_json('amass_sample.json')\n"
   ],
   "metadata": {
    "collapsed": false,
    "pycharm": {
     "name": "#%%\n",
     "is_executing": false
    }
   }
  },
  {
   "cell_type": "markdown",
   "source": [
    "You can also call these scripts from the command line using (assuming you're in the right folder)\n",
    "\n",
    "`python AmassData.py 'Path/To/npzFile.npz' 'Path/to/destination/jsonFile.json'`"
   ],
   "metadata": {
    "collapsed": false,
    "pycharm": {
     "name": "#%% md\n"
    }
   }
  },
  {
   "cell_type": "markdown",
   "source": [
    "# Convert SMPL-H model .npz files to Unity:"
   ],
   "metadata": {
    "collapsed": false,
    "pycharm": {
     "name": "#%% md\n"
    }
   }
  },
  {
   "cell_type": "markdown",
   "source": [
    "Point to Model.npz path. Remember different models for male and female, so need to do this process for both.\n",
    "\n",
    "Note that for hands to work properly model.npz files should be downloaded from MANO database website, rather than AMASS"
   ],
   "metadata": {
    "collapsed": false,
    "pycharm": {
     "name": "#%% md\n"
    }
   }
  },
  {
   "cell_type": "code",
   "execution_count": 1,
   "outputs": [],
   "source": [
    "model_path = 'Models/smplh_model_from_mano_f.npz'"
   ],
   "metadata": {
    "collapsed": false,
    "pycharm": {
     "name": "#%%\n",
     "is_executing": false
    }
   }
  },
  {
   "cell_type": "markdown",
   "source": [
    "Create converter"
   ],
   "metadata": {
    "collapsed": false,
    "pycharm": {
     "name": "#%% md\n"
    }
   }
  },
  {
   "cell_type": "code",
   "execution_count": null,
   "outputs": [],
   "source": [
    "converter = SMPLHRegressorToJSON(model_path)"
   ],
   "metadata": {
    "collapsed": false,
    "pycharm": {
     "name": "#%%\n"
    }
   }
  },
  {
   "cell_type": "markdown",
   "source": [
    "Write to json"
   ],
   "metadata": {
    "collapsed": false,
    "pycharm": {
     "name": "#%% md\n"
    }
   }
  },
  {
   "cell_type": "code",
   "execution_count": null,
   "outputs": [],
   "source": [
    "converter.write_to_json('smplh_amass_regressor_f.json')\n",
    "print(\"done conversion.\")"
   ],
   "metadata": {
    "collapsed": false,
    "pycharm": {
     "name": "#%%\n"
    }
   }
  },
  {
   "cell_type": "markdown",
   "source": [
    "You can also call these scripts from the command line using (assuming you're in the right folder)\n",
    "\n",
    "`python Regressor.py 'Path/To/npzFile.npz' 'Path/to/destination/jsonFile.json'`\n",
    "\n",
    "\n"
   ],
   "metadata": {
    "collapsed": false,
    "pycharm": {
     "name": "#%% md\n"
    }
   }
  }
 ],
 "metadata": {
  "kernelspec": {
   "display_name": "Python 3",
   "language": "python",
   "name": "python3"
  },
  "language_info": {
   "codemirror_mode": {
    "name": "ipython",
    "version": 2
   },
   "file_extension": ".py",
   "mimetype": "text/x-python",
   "name": "python",
   "nbconvert_exporter": "python",
   "pygments_lexer": "ipython2",
   "version": "2.7.6"
  },
  "pycharm": {
   "stem_cell": {
    "cell_type": "raw",
    "source": [],
    "metadata": {
     "collapsed": false
    }
   }
  }
 },
 "nbformat": 4,
 "nbformat_minor": 0
}