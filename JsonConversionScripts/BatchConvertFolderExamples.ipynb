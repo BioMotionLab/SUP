{
 "cells": [
  {
   "cell_type": "markdown",
   "source": [
    "# How to batch convert a folder\n",
    "\n",
    "This example assumes you have read the single-file conversion examples."
   ],
   "metadata": {
    "collapsed": false,
    "pycharm": {
     "name": "#%% md\n"
    }
   }
  },
  {
   "cell_type": "code",
   "execution_count": 2,
   "metadata": {
    "collapsed": true,
    "pycharm": {
     "is_executing": false
    }
   },
   "outputs": [],
   "source": [
    "from AmassData import AMASSDataConverter\n",
    "from pathlib import Path\n",
    "import os\n"
   ]
  },
  {
   "cell_type": "markdown",
   "source": [
    "Change these paths to a folder on your hard drive."
   ],
   "metadata": {
    "collapsed": false,
    "pycharm": {
     "name": "#%% md\n"
    }
   }
  },
  {
   "cell_type": "code",
   "execution_count": 3,
   "outputs": [],
   "source": [
    "input_folder = r'C:\\Users\\adamb\\Downloads\\BMLrub\\BioMotionLab_NTroje'\n",
    "output_folder = r'E:\\BMLrub_Converted'\n",
    "\n"
   ],
   "metadata": {
    "collapsed": false,
    "pycharm": {
     "name": "#%%\n",
     "is_executing": false
    }
   }
  },
  {
   "cell_type": "markdown",
   "source": [
    "Most of this code is simply dealing with paths.\n"
   ],
   "metadata": {
    "collapsed": false,
    "pycharm": {
     "name": "#%% md\n",
     "is_executing": false
    }
   }
  },
  {
   "cell_type": "code",
   "execution_count": null,
   "outputs": [],
   "source": [
    "subfolders = os.listdir(input_folder)\n",
    "for this_subfolder in subfolders:\n",
    "    new_folder = os.path.join(output_folder, this_subfolder)\n",
    "    Path(new_folder).mkdir(exist_ok=True)\n",
    "    folder_path = os.path.join(input_folder, this_subfolder)\n",
    "    print(f'\\nProcessing folder: {this_subfolder}')\n",
    "    \n",
    "    # Loop through all npz files in subfolder.\n",
    "    for file in os.listdir(folder_path):\n",
    "        if file.endswith('.npz'):\n",
    "            full_file_path = os.path.join(folder_path, file)\n",
    "            print(f\"\\tProcessing: {full_file_path}\")\n",
    "            output_file_path = os.path.join(new_folder, Path(full_file_path).stem) + \".json\"\n",
    "\n",
    "            # Actually do conversion (hiding full output)\n",
    "            converter = AMASSDataConverter(full_file_path, show_messages=False)\n",
    "            converter.write_to_json(output_file_path)\n",
    "    \n",
    "print('\\n*** DONE ***')\n",
    "    \n",
    "            \n",
    "    \n",
    "    "
   ],
   "metadata": {
    "collapsed": false,
    "pycharm": {
     "name": "#%%\n"
    }
   }
  }
 ],
 "metadata": {
  "kernelspec": {
   "display_name": "Python 3",
   "language": "python",
   "name": "python3"
  },
  "language_info": {
   "codemirror_mode": {
    "name": "ipython",
    "version": 2
   },
   "file_extension": ".py",
   "mimetype": "text/x-python",
   "name": "python",
   "nbconvert_exporter": "python",
   "pygments_lexer": "ipython2",
   "version": "2.7.6"
  }
 },
 "nbformat": 4,
 "nbformat_minor": 0
}