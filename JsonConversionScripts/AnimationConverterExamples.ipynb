{
 "cells": [
  {
   "cell_type": "markdown",
   "source": [
    "## This Script shows how to use the conversion scripts to convert AMASS npz data into a Unity-Friendly JSON file."
   ],
   "metadata": {
    "collapsed": false,
    "pycharm": {
     "name": "#%% md\n"
    }
   }
  },
  {
   "cell_type": "markdown",
   "source": [
    "Note that these scripts were written in python 3.8, and therefore probably require at least python 3.6 to run. \n",
    "You'll need an up-to-date version of scipy package since older versions do not include the scipy.spatial.transform module. \n",
    "\n",
    "Requirements:\n",
    "* scipy\n",
    "* numpy\n",
    "* json\n",
    "\n",
    "Run This cell to make sure you have dependencies installed.\n"
   ],
   "metadata": {
    "collapsed": false,
    "pycharm": {
     "name": "#%% md\n"
    }
   }
  },
  {
   "cell_type": "code",
   "execution_count": 1,
   "outputs": [
    {
     "name": "stdout",
     "output_type": "stream",
     "text": [
      "scipy version 1.4.1, good\n",
      "numpy version 1.18.2, good\n",
      "json version 2.0.9, good\n"
     ]
    }
   ],
   "source": [
    "# Check dependencies\n",
    "import version_check_util as vers\n",
    "import scipy\n",
    "vers.check_version(\"scipy\", scipy.__version__, \"1.4.1\")\n",
    "import numpy\n",
    "vers.check_version(\"numpy\", numpy.__version__, \"1.18.1\")\n",
    "import json\n",
    "vers.check_version(\"json\", json.__version__, \"2.0.9\")\n",
    "\n",
    "# Internal Imports\n",
    "from AmassData import AMASSDataConverter\n"
   ],
   "metadata": {
    "collapsed": false,
    "pycharm": {
     "name": "#%%\n"
    }
   }
  },
  {
   "cell_type": "markdown",
   "source": [
    "# Convert SMPL-H AMASS animation .npz data files to Unity:\n"
   ],
   "metadata": {
    "collapsed": false
   }
  },
  {
   "cell_type": "markdown",
   "source": [
    "Point to smpl-h npz animation file\n"
   ],
   "metadata": {
    "collapsed": false,
    "pycharm": {
     "name": "#%% md\n"
    }
   }
  },
  {
   "cell_type": "code",
   "execution_count": 2,
   "outputs": [],
   "source": [
    "npz_data_filename = 'AMASS_Data/punching_poses.npz'\n"
   ],
   "metadata": {
    "collapsed": false,
    "pycharm": {
     "name": "#%%\n"
    }
   }
  },
  {
   "cell_type": "markdown",
   "source": [
    "Create converter\n"
   ],
   "metadata": {
    "collapsed": false,
    "pycharm": {
     "name": "#%% md\n"
    }
   }
  },
  {
   "cell_type": "code",
   "execution_count": 3,
   "outputs": [
    {
     "name": "stdout",
     "output_type": "stream",
     "text": [
      "gender: female\n",
      "betas: (16,)\n",
      "poses: (234, 156)\n",
      "dmpls: (234, 8)\n",
      "trans: (234, 3)\n",
      "frames detected: 234\n",
      "fps: 60\n"
     ]
    }
   ],
   "source": [
    "converter = AMASSDataConverter(npz_data_filename)\n"
   ],
   "metadata": {
    "collapsed": false,
    "pycharm": {
     "name": "#%%\n"
    }
   }
  },
  {
   "cell_type": "markdown",
   "source": [
    "Write to output .json (full path can be given. this example puts it in the current folder)\n"
   ],
   "metadata": {
    "collapsed": false,
    "pycharm": {
     "name": "#%% md\n"
    }
   }
  },
  {
   "cell_type": "code",
   "execution_count": null,
   "outputs": [],
   "source": [
    "json_name = 'test_data.json'\n",
    "converter.write_to_json(json_name)\n"
   ],
   "metadata": {
    "collapsed": false,
    "pycharm": {
     "name": "#%%\n"
    }
   }
  },
  {
   "cell_type": "markdown",
   "source": [
    "Second data conversion example\n"
   ],
   "metadata": {
    "collapsed": false,
    "pycharm": {
     "name": "#%% md\n"
    }
   }
  },
  {
   "cell_type": "code",
   "execution_count": 5,
   "outputs": [
    {
     "name": "stdout",
     "text": [
      "120.0\n",
      "gender: male\n",
      "betas: (16,)\n",
      "poses: (601, 156)\n",
      "dmpls: (601, 8)\n",
      "trans: (601, 3)\n",
      "frames detected: 601\n",
      "fps: 120\n"
     ],
     "output_type": "stream"
    }
   ],
   "source": [
    "sample_data = \"AMASS_Data/amass_sample.npz\"\n",
    "converter = AMASSDataConverter(sample_data)\n",
    "converter.write_to_json('amass_sample.json')\n"
   ],
   "metadata": {
    "collapsed": false,
    "pycharm": {
     "name": "#%%\n",
     "is_executing": false
    }
   }
  },
  {
   "cell_type": "markdown",
   "source": [
    "For batch runs, you can suppress most messages by adding show_messages=False when creating the converter.\n",
    "For more info on batch runs, see the other example script included in this folder."
   ],
   "metadata": {
    "collapsed": false
   }
  },
  {
   "cell_type": "code",
   "execution_count": null,
   "outputs": [],
   "source": [
    "converter = AMASSDataConverter(npz_data_filename, show_messages=False)"
   ],
   "metadata": {
    "collapsed": false,
    "pycharm": {
     "name": "#%%\n"
    }
   }
  },
  {
   "cell_type": "markdown",
   "source": [
    "You can also call these scripts from the command line using (assuming you're in the right folder)\n",
    "\n",
    "`python AmassData.py 'Path/To/npzFile.npz' 'Path/to/destination/jsonFile.json'`\n",
    "\n"
   ],
   "metadata": {
    "collapsed": false,
    "pycharm": {
     "name": "#%% md\n"
    }
   }
  },
  {
   "cell_type": "markdown",
   "source": [
    "## Note on .h5 files\n",
    "\n",
    "bmlSUP previously supported .h5 database files. However, I have dropped support for several reasons:\n",
    "1. The C# Library is unstable in Unity, and requires maintaining code that interfaces with an awful C library.\n",
    "2. It seems h5 is falling out of favour since it isn't used in \"big data\"\n",
    "3. This allows development time to focus on improving the JSON workflow.\n",
    "\n",
    "If you really need this functionality, please let me know, I have kept versions of these scripts. And can share them if you'd like to work with them despite being unstable."
   ],
   "metadata": {
    "collapsed": false,
    "pycharm": {
     "name": "#%% md\n"
    }
   }
  }
 ],
 "metadata": {
  "kernelspec": {
   "name": "pycharm-8e87507b",
   "language": "python",
   "display_name": "PyCharm (ReadingNumpyDataFromAmass)"
  },
  "language_info": {
   "codemirror_mode": {
    "name": "ipython",
    "version": 2
   },
   "file_extension": ".py",
   "mimetype": "text/x-python",
   "name": "python",
   "nbconvert_exporter": "python",
   "pygments_lexer": "ipython2",
   "version": "2.7.6"
  }
 },
 "nbformat": 4,
 "nbformat_minor": 0
}