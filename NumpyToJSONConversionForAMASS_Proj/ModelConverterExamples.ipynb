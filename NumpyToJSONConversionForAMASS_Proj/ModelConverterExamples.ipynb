{
 "cells": [
  {
   "cell_type": "markdown",
   "metadata": {
    "collapsed": true,
    "pycharm": {
     "name": "#%% md\n"
    }
   },
   "source": [
    "# Convert SMPL-H model .npz files to Unity:\n",
    "\n"
   ]
  },
  {
   "cell_type": "markdown",
   "source": [
    "Note that these scripts were written in python 3.8, and therefore probably require at least python 3.6 to run. \n",
    "You'll need an up-to-date version of scipy package since older versions do not include the scipy.spatial.transform module. \n",
    "\n",
    "Requirements:\n",
    "* scipy\n",
    "* numpy\n",
    "* json\n",
    "\n",
    "Run This cell to make sure you have dependencies installed.\n"
   ],
   "metadata": {
    "collapsed": false
   }
  },
  {
   "cell_type": "code",
   "execution_count": null,
   "outputs": [],
   "source": [
    "# Check dependencies\n",
    "import version_check_util as vers\n",
    "import scipy\n",
    "vers.check_version(\"scipy\", scipy.__version__, \"1.4.1\")\n",
    "import numpy\n",
    "vers.check_version(\"numpy\", numpy.__version__, \"1.18.1\")\n",
    "import json\n",
    "vers.check_version(\"json\", json.__version__, \"2.0.9\")\n",
    "\n",
    "# Internal Imports\n",
    "from Regressor import SMPLHRegressorToJSON\n"
   ],
   "metadata": {
    "collapsed": false,
    "pycharm": {
     "name": "#%%\n"
    }
   }
  },
  {
   "cell_type": "markdown",
   "source": [
    "Point to Model.npz path. Remember different models for male and female, so need to do this process for both.\n",
    "\n",
    "Note that for hands to work properly model.npz files should be downloaded from MANO database website, rather than AMASS\n"
   ],
   "metadata": {
    "collapsed": false
   }
  },
  {
   "cell_type": "code",
   "execution_count": null,
   "outputs": [],
   "source": [
    "model_path = 'Models/smplh_model_from_mano_f.npz'\n"
   ],
   "metadata": {
    "collapsed": false,
    "pycharm": {
     "name": "#%%\n"
    }
   }
  },
  {
   "cell_type": "markdown",
   "source": [
    "Create converter\n"
   ],
   "metadata": {
    "collapsed": false
   }
  },
  {
   "cell_type": "code",
   "execution_count": null,
   "outputs": [],
   "source": [
    "converter = SMPLHRegressorToJSON(model_path)\n"
   ],
   "metadata": {
    "collapsed": false,
    "pycharm": {
     "name": "#%%\n"
    }
   }
  },
  {
   "cell_type": "markdown",
   "source": [
    "Write to json\n"
   ],
   "metadata": {
    "collapsed": false
   }
  },
  {
   "cell_type": "code",
   "execution_count": null,
   "outputs": [],
   "source": [
    "converter.write_to_json('smplh_amass_regressor_f.json')\n",
    "print(\"done conversion.\")\n"
   ],
   "metadata": {
    "collapsed": false,
    "pycharm": {
     "name": "#%%\n"
    }
   }
  },
  {
   "cell_type": "markdown",
   "source": [
    "You can also call these scripts from the command line using the following (assuming you're in the right folder).\n",
    "\n",
    "`python Regressor.py 'Path/To/npzFile.npz' 'Path/to/destination/jsonFile.json'`"
   ],
   "metadata": {
    "collapsed": false
   }
  }
 ],
 "metadata": {
  "kernelspec": {
   "display_name": "Python 3",
   "language": "python",
   "name": "python3"
  },
  "language_info": {
   "codemirror_mode": {
    "name": "ipython",
    "version": 2
   },
   "file_extension": ".py",
   "mimetype": "text/x-python",
   "name": "python",
   "nbconvert_exporter": "python",
   "pygments_lexer": "ipython2",
   "version": "2.7.6"
  },
  "pycharm": {
   "stem_cell": {
    "cell_type": "raw",
    "source": [],
    "metadata": {
     "collapsed": false
    }
   }
  }
 },
 "nbformat": 4,
 "nbformat_minor": 0
}