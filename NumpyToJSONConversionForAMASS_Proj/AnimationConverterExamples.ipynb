{
 "cells": [
  {
   "cell_type": "markdown",
   "source": [
    "## This Script shows how to use the conversion scripts to convert AMASS npz data into a Unity-Friendly JSON file."
   ],
   "metadata": {
    "collapsed": false,
    "pycharm": {
     "name": "#%% md\n"
    }
   }
  },
  {
   "cell_type": "markdown",
   "source": [
    "Note that these scripts were written in python 3.8, and therefore probably require at least python 3.6 to run. \n",
    "You'll need an up-to-date version of scipy package since older versions do not include the scipy.spatial.transform module. \n",
    "\n",
    "Requirements:\n",
    "* scipy\n",
    "* numpy\n",
    "* json\n",
    "\n",
    "Run This cell to make sure you have dependencies installed.\n"
   ],
   "metadata": {
    "collapsed": false
   }
  },
  {
   "cell_type": "code",
   "execution_count": 1,
   "outputs": [
    {
     "name": "stdout",
     "output_type": "stream",
     "text": [
      "scipy version 1.4.1, good\n",
      "numpy version 1.18.2, good\n",
      "json version 2.0.9, good\n"
     ]
    }
   ],
   "source": [
    "# Check dependencies\n",
    "import h5py\n",
    "import version_check_util as vers\n",
    "import scipy\n",
    "vers.check_version(\"scipy\", scipy.__version__, \"1.4.1\")\n",
    "import numpy\n",
    "vers.check_version(\"numpy\", numpy.__version__, \"1.18.1\")\n",
    "import json\n",
    "vers.check_version(\"json\", json.__version__, \"2.0.9\")\n",
    "\n",
    "# Internal Imports\n",
    "from AmassData import AMASSDataConverter\n"
   ],
   "metadata": {
    "collapsed": false,
    "pycharm": {
     "name": "#%%\n"
    }
   }
  },
  {
   "cell_type": "markdown",
   "source": [
    "# Convert SMPL-H AMASS animation .npz data files to Unity:\n"
   ],
   "metadata": {
    "collapsed": false
   }
  },
  {
   "cell_type": "markdown",
   "source": [
    "Point to smpl-h npz animation file\n"
   ],
   "metadata": {
    "collapsed": false,
    "pycharm": {
     "name": "#%% md\n"
    }
   }
  },
  {
   "cell_type": "code",
   "execution_count": 2,
   "outputs": [],
   "source": [
    "npz_data_filename = 'AMASS_Data/punching_poses.npz'\n"
   ],
   "metadata": {
    "collapsed": false,
    "pycharm": {
     "name": "#%%\n"
    }
   }
  },
  {
   "cell_type": "markdown",
   "source": [
    "Create converter\n"
   ],
   "metadata": {
    "collapsed": false,
    "pycharm": {
     "name": "#%% md\n"
    }
   }
  },
  {
   "cell_type": "code",
   "execution_count": 3,
   "outputs": [
    {
     "name": "stdout",
     "output_type": "stream",
     "text": [
      "gender: female\n",
      "betas: (16,)\n",
      "poses: (234, 156)\n",
      "dmpls: (234, 8)\n",
      "trans: (234, 3)\n",
      "frames detected: 234\n",
      "fps: 60\n"
     ]
    }
   ],
   "source": [
    "converter = AMASSDataConverter(npz_data_filename)\n"
   ],
   "metadata": {
    "collapsed": false,
    "pycharm": {
     "name": "#%%\n"
    }
   }
  },
  {
   "cell_type": "markdown",
   "source": [
    "Write to output json (full path can be given. this example puts it in the current folder)\n"
   ],
   "metadata": {
    "collapsed": false,
    "pycharm": {
     "name": "#%% md\n"
    }
   }
  },
  {
   "cell_type": "code",
   "execution_count": 4,
   "outputs": [
    {
     "name": "stdout",
     "output_type": "stream",
     "text": [
      "poses: (234, 156)\n",
      "gender: ()\n",
      "mocap_framerate: ()\n",
      "betas: (16,)\n",
      "marker_data: (234, 86, 3)\n",
      "dmpls: (234, 8)\n",
      "marker_labels: (86,)\n",
      "trans: (234, 3)\n",
      "\n",
      "\t*** DONE CONVERSION ***\n",
      "\n"
     ]
    }
   ],
   "source": [
    "h5_name = 'test_data.h5'\n",
    "converter.write_to_h5(h5_name)\n"
   ],
   "metadata": {
    "collapsed": false,
    "pycharm": {
     "name": "#%%\n"
    }
   }
  },
  {
   "cell_type": "code",
   "execution_count": 23,
   "outputs": [
    {
     "name": "stdout",
     "output_type": "stream",
     "text": [
      "<KeysViewHDF5 ['betas', 'dmpls', 'gender', 'marker_data', 'marker_labels', 'mocap_framerate', 'poses', 'trans']>\n",
      "(234, 52, 3)\n",
      "float64\n",
      "**\n",
      "test: [-0.09639297  0.09091566  0.18845929]\n",
      "[-0.04808997  0.04535737  0.0940214   0.99337306]\n"
     ]
    }
   ],
   "source": [
    "from scipy.spatial.transform import Rotation\n",
    "with h5py.File(h5_name, 'r') as hf:\n",
    "    print(hf.keys())\n",
    "    J = hf['poses']\n",
    "    J = numpy.reshape(J, [J.shape[0], 52, 3])\n",
    "    print(J.shape)\n",
    "    print(J.dtype)\n",
    "    #print(J[2])\n",
    "    #print(J[200])\n",
    "    print(\"**\")\n",
    "    test = J[118][39]\n",
    "    print(f\"test: { test }\")\n",
    "    #for i in range(0, len(J)):\n",
    "        #print(f\"frame {i}: {J[i]}\")\n",
    "    rotvec = Rotation.from_rotvec(test)\n",
    "    print(Rotation.as_quat(rotvec))\n"
   ],
   "metadata": {
    "collapsed": false,
    "pycharm": {
     "name": "#%%\n"
    }
   }
  },
  {
   "cell_type": "code",
   "execution_count": 26,
   "outputs": [
    {
     "name": "stdout",
     "output_type": "stream",
     "text": [
      "<KeysViewHDF5 ['betas', 'dmpls', 'gender', 'marker_data', 'marker_labels', 'mocap_framerate', 'poses', 'trans']>\n",
      "data: betas: shape: (16,)\n",
      "data: dmpls: shape: (234, 8)\n",
      "data: gender: shape: ()\n",
      "data: marker_data: shape: (234, 86, 3)\n",
      "data: marker_labels: shape: (86,)\n",
      "data: mocap_framerate: shape: ()\n",
      "data: poses: shape: (234, 156)\n",
      "data: trans: shape: (234, 3)\n"
     ]
    }
   ],
   "source": [
    "with h5py.File(h5_name, 'r') as hf:\n",
    "    print(hf.keys())\n",
    "    for key in hf.keys():\n",
    "        print(f\"data: {key}: shape: {hf[key].shape}\")"
   ],
   "metadata": {
    "collapsed": false,
    "pycharm": {
     "name": "#%%\n"
    }
   }
  },
  {
   "cell_type": "code",
   "execution_count": null,
   "outputs": [],
   "source": [],
   "metadata": {
    "collapsed": false,
    "pycharm": {
     "name": "#%%\n"
    }
   }
  },
  {
   "cell_type": "markdown",
   "source": [
    "Second data conversion example\n"
   ],
   "metadata": {
    "collapsed": false,
    "pycharm": {
     "name": "#%% md\n"
    }
   }
  },
  {
   "cell_type": "code",
   "execution_count": 5,
   "outputs": [
    {
     "name": "stdout",
     "text": [
      "120.0\n",
      "gender: male\n",
      "betas: (16,)\n",
      "poses: (601, 156)\n",
      "dmpls: (601, 8)\n",
      "trans: (601, 3)\n",
      "frames detected: 601\n",
      "fps: 120\n"
     ],
     "output_type": "stream"
    }
   ],
   "source": [
    "sample_data = \"AMASS_Data/amass_sample.npz\"\n",
    "converter = AMASSDataConverter(sample_data)\n",
    "converter.write_to_json('amass_sample.json')\n"
   ],
   "metadata": {
    "collapsed": false,
    "pycharm": {
     "name": "#%%\n",
     "is_executing": false
    }
   }
  },
  {
   "cell_type": "markdown",
   "source": [
    "For batch runs, you can suppress most messages by adding show_messages=False when creating the converter."
   ],
   "metadata": {
    "collapsed": false
   }
  },
  {
   "cell_type": "code",
   "execution_count": null,
   "outputs": [],
   "source": [
    "converter = AMASSDataConverter(npz_data_filename, show_messages=False)"
   ],
   "metadata": {
    "collapsed": false,
    "pycharm": {
     "name": "#%%\n"
    }
   }
  },
  {
   "cell_type": "markdown",
   "source": [
    "You can also call these scripts from the command line using (assuming you're in the right folder)\n",
    "\n",
    "`python AmassData.py 'Path/To/npzFile.npz' 'Path/to/destination/jsonFile.json'`"
   ],
   "metadata": {
    "collapsed": false,
    "pycharm": {
     "name": "#%% md\n"
    }
   }
  }
 ],
 "metadata": {
  "kernelspec": {
   "name": "pycharm-8e87507b",
   "language": "python",
   "display_name": "PyCharm (ReadingNumpyDataFromAmass)"
  },
  "language_info": {
   "codemirror_mode": {
    "name": "ipython",
    "version": 2
   },
   "file_extension": ".py",
   "mimetype": "text/x-python",
   "name": "python",
   "nbconvert_exporter": "python",
   "pygments_lexer": "ipython2",
   "version": "2.7.6"
  }
 },
 "nbformat": 4,
 "nbformat_minor": 0
}