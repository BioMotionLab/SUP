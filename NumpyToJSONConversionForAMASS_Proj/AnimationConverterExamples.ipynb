{
 "cells": [
  {
   "cell_type": "markdown",
   "source": [
    "## This Script shows how to use the conversion scripts to convert AMASS npz data into a Unity-Friendly JSON file."
   ],
   "metadata": {
    "collapsed": false,
    "pycharm": {
     "name": "#%% md\n"
    }
   }
  },
  {
   "cell_type": "markdown",
   "source": [
    "Note that these scripts were written in python 3.8, and therefore probably require at least python 3.6 to run. \n",
    "You'll need an up-to-date version of scipy package since older versions do not include the scipy.spatial.transform module. \n",
    "\n",
    "Requirements:\n",
    "* scipy\n",
    "* numpy\n",
    "* json\n",
    "\n",
    "Run This cell to make sure you have dependencies installed.\n"
   ],
   "metadata": {
    "collapsed": false
   }
  },
  {
   "cell_type": "code",
   "execution_count": 7,
   "outputs": [
    {
     "name": "stdout",
     "output_type": "stream",
     "text": [
      "scipy version 1.4.1, good\n",
      "numpy version 1.18.1, good\n",
      "json version 2.0.9, good\n"
     ]
    }
   ],
   "source": [
    "# Check dependencies\n",
    "import h5py\n",
    "import version_check_util as vers\n",
    "import scipy\n",
    "vers.check_version(\"scipy\", scipy.__version__, \"1.4.1\")\n",
    "import numpy\n",
    "vers.check_version(\"numpy\", numpy.__version__, \"1.18.1\")\n",
    "import json\n",
    "vers.check_version(\"json\", json.__version__, \"2.0.9\")\n",
    "\n",
    "# Internal Imports\n",
    "from AmassData import AMASSDataConverter\n"
   ],
   "metadata": {
    "collapsed": false,
    "pycharm": {
     "name": "#%%\n"
    }
   }
  },
  {
   "cell_type": "markdown",
   "source": [
    "# Convert SMPL-H AMASS animation .npz data files to Unity:\n"
   ],
   "metadata": {
    "collapsed": false
   }
  },
  {
   "cell_type": "markdown",
   "source": [
    "Point to smpl-h npz animation file\n"
   ],
   "metadata": {
    "collapsed": false,
    "pycharm": {
     "name": "#%% md\n"
    }
   }
  },
  {
   "cell_type": "code",
   "execution_count": 8,
   "outputs": [],
   "source": [
    "npz_data_filename = 'AMASS_Data/punching_poses.npz'\n"
   ],
   "metadata": {
    "collapsed": false,
    "pycharm": {
     "name": "#%%\n"
    }
   }
  },
  {
   "cell_type": "markdown",
   "source": [
    "Create converter\n"
   ],
   "metadata": {
    "collapsed": false,
    "pycharm": {
     "name": "#%% md\n"
    }
   }
  },
  {
   "cell_type": "code",
   "execution_count": 9,
   "outputs": [
    {
     "name": "stdout",
     "output_type": "stream",
     "text": [
      "gender: female\n",
      "betas: (16,)\n",
      "poses: (234, 156)\n",
      "dmpls: (234, 8)\n",
      "trans: (234, 3)\n",
      "frames detected: 234\n",
      "fps: 60\n"
     ]
    }
   ],
   "source": [
    "converter = AMASSDataConverter(npz_data_filename)\n"
   ],
   "metadata": {
    "collapsed": false,
    "pycharm": {
     "name": "#%%\n"
    }
   }
  },
  {
   "cell_type": "markdown",
   "source": [
    "Write to output json (full path can be given. this example puts it in the current folder)\n"
   ],
   "metadata": {
    "collapsed": false,
    "pycharm": {
     "name": "#%% md\n"
    }
   }
  },
  {
   "cell_type": "code",
   "execution_count": 10,
   "outputs": [
    {
     "name": "stdout",
     "output_type": "stream",
     "text": [
      "poses: (234, 156)\n",
      "gender: ()\n",
      "mocap_framerate: ()\n",
      "betas: (16,)\n",
      "marker_data: (234, 86, 3)\n",
      "dmpls: (234, 8)\n",
      "marker_labels: (86,)\n",
      "trans: (234, 3)\n",
      "\n",
      "\t*** DONE CONVERSION ***\n",
      "\n"
     ]
    }
   ],
   "source": [
    "h5_name = 'test_data.h5'\n",
    "converter.write_to_h5(h5_name)\n"
   ],
   "metadata": {
    "collapsed": false,
    "pycharm": {
     "name": "#%%\n"
    }
   }
  },
  {
   "cell_type": "code",
   "execution_count": 11,
   "outputs": [
    {
     "name": "stdout",
     "output_type": "stream",
     "text": [
      "<KeysViewHDF5 ['betas', 'dmpls', 'gender', 'marker_data', 'marker_labels', 'mocap_framerate', 'poses', 'trans']>\n"
     ]
    },
    {
     "ename": "KeyError",
     "evalue": "\"Unable to open object (object 'J' doesn't exist)\"",
     "output_type": "error",
     "traceback": [
      "\u001B[1;31m---------------------------------------------------------------------------\u001B[0m",
      "\u001B[1;31mKeyError\u001B[0m                                  Traceback (most recent call last)",
      "\u001B[1;32m<ipython-input-11-bb0fb461c2dc>\u001B[0m in \u001B[0;36m<module>\u001B[1;34m\u001B[0m\n\u001B[0;32m      3\u001B[0m \u001B[1;33m\u001B[0m\u001B[0m\n\u001B[0;32m      4\u001B[0m     \u001B[1;31m#%%\u001B[0m\u001B[1;33m\u001B[0m\u001B[1;33m\u001B[0m\u001B[1;33m\u001B[0m\u001B[0m\n\u001B[1;32m----> 5\u001B[1;33m     \u001B[0mJ\u001B[0m \u001B[1;33m=\u001B[0m \u001B[0mhf\u001B[0m\u001B[1;33m[\u001B[0m\u001B[1;34m'J'\u001B[0m\u001B[1;33m]\u001B[0m\u001B[1;33m\u001B[0m\u001B[1;33m\u001B[0m\u001B[0m\n\u001B[0m\u001B[0;32m      6\u001B[0m     \u001B[0mprint\u001B[0m\u001B[1;33m(\u001B[0m\u001B[0mJ\u001B[0m\u001B[1;33m.\u001B[0m\u001B[0mshape\u001B[0m\u001B[1;33m)\u001B[0m\u001B[1;33m\u001B[0m\u001B[1;33m\u001B[0m\u001B[0m\n\u001B[0;32m      7\u001B[0m     \u001B[0mprint\u001B[0m\u001B[1;33m(\u001B[0m\u001B[0mJ\u001B[0m\u001B[1;33m.\u001B[0m\u001B[0mdtype\u001B[0m\u001B[1;33m)\u001B[0m\u001B[1;33m\u001B[0m\u001B[1;33m\u001B[0m\u001B[0m\n",
      "\u001B[1;32mh5py\\_objects.pyx\u001B[0m in \u001B[0;36mh5py._objects.with_phil.wrapper\u001B[1;34m()\u001B[0m\n",
      "\u001B[1;32mh5py\\_objects.pyx\u001B[0m in \u001B[0;36mh5py._objects.with_phil.wrapper\u001B[1;34m()\u001B[0m\n",
      "\u001B[1;32mC:\\ProgramData\\Anaconda3\\envs\\NumpyToJSONConversionForAMASS\\lib\\site-packages\\h5py\\_hl\\group.py\u001B[0m in \u001B[0;36m__getitem__\u001B[1;34m(self, name)\u001B[0m\n\u001B[0;32m    262\u001B[0m                 \u001B[1;32mraise\u001B[0m \u001B[0mValueError\u001B[0m\u001B[1;33m(\u001B[0m\u001B[1;34m\"Invalid HDF5 object reference\"\u001B[0m\u001B[1;33m)\u001B[0m\u001B[1;33m\u001B[0m\u001B[1;33m\u001B[0m\u001B[0m\n\u001B[0;32m    263\u001B[0m         \u001B[1;32melse\u001B[0m\u001B[1;33m:\u001B[0m\u001B[1;33m\u001B[0m\u001B[1;33m\u001B[0m\u001B[0m\n\u001B[1;32m--> 264\u001B[1;33m             \u001B[0moid\u001B[0m \u001B[1;33m=\u001B[0m \u001B[0mh5o\u001B[0m\u001B[1;33m.\u001B[0m\u001B[0mopen\u001B[0m\u001B[1;33m(\u001B[0m\u001B[0mself\u001B[0m\u001B[1;33m.\u001B[0m\u001B[0mid\u001B[0m\u001B[1;33m,\u001B[0m \u001B[0mself\u001B[0m\u001B[1;33m.\u001B[0m\u001B[0m_e\u001B[0m\u001B[1;33m(\u001B[0m\u001B[0mname\u001B[0m\u001B[1;33m)\u001B[0m\u001B[1;33m,\u001B[0m \u001B[0mlapl\u001B[0m\u001B[1;33m=\u001B[0m\u001B[0mself\u001B[0m\u001B[1;33m.\u001B[0m\u001B[0m_lapl\u001B[0m\u001B[1;33m)\u001B[0m\u001B[1;33m\u001B[0m\u001B[1;33m\u001B[0m\u001B[0m\n\u001B[0m\u001B[0;32m    265\u001B[0m \u001B[1;33m\u001B[0m\u001B[0m\n\u001B[0;32m    266\u001B[0m         \u001B[0motype\u001B[0m \u001B[1;33m=\u001B[0m \u001B[0mh5i\u001B[0m\u001B[1;33m.\u001B[0m\u001B[0mget_type\u001B[0m\u001B[1;33m(\u001B[0m\u001B[0moid\u001B[0m\u001B[1;33m)\u001B[0m\u001B[1;33m\u001B[0m\u001B[1;33m\u001B[0m\u001B[0m\n",
      "\u001B[1;32mh5py\\_objects.pyx\u001B[0m in \u001B[0;36mh5py._objects.with_phil.wrapper\u001B[1;34m()\u001B[0m\n",
      "\u001B[1;32mh5py\\_objects.pyx\u001B[0m in \u001B[0;36mh5py._objects.with_phil.wrapper\u001B[1;34m()\u001B[0m\n",
      "\u001B[1;32mh5py\\h5o.pyx\u001B[0m in \u001B[0;36mh5py.h5o.open\u001B[1;34m()\u001B[0m\n",
      "\u001B[1;31mKeyError\u001B[0m: \"Unable to open object (object 'J' doesn't exist)\""
     ]
    }
   ],
   "source": [
    "with h5py.File(h5_name, 'r') as hf:\n",
    "    print(hf.keys())\n",
    "    \n",
    "    #%%\n",
    "    J = hf['J']\n",
    "    print(J.shape)\n",
    "    print(J.dtype)\n",
    "    for i in range(0, 24):\n",
    "        print(J[i])\n"
   ],
   "metadata": {
    "collapsed": false,
    "pycharm": {
     "name": "#%%\n"
    }
   }
  },
  {
   "cell_type": "markdown",
   "source": [
    "Second data conversion example\n"
   ],
   "metadata": {
    "collapsed": false,
    "pycharm": {
     "name": "#%% md\n"
    }
   }
  },
  {
   "cell_type": "code",
   "execution_count": 5,
   "outputs": [
    {
     "name": "stdout",
     "text": [
      "120.0\n",
      "gender: male\n",
      "betas: (16,)\n",
      "poses: (601, 156)\n",
      "dmpls: (601, 8)\n",
      "trans: (601, 3)\n",
      "frames detected: 601\n",
      "fps: 120\n"
     ],
     "output_type": "stream"
    }
   ],
   "source": [
    "sample_data = \"AMASS_Data/amass_sample.npz\"\n",
    "converter = AMASSDataConverter(sample_data)\n",
    "converter.write_to_json('amass_sample.json')\n"
   ],
   "metadata": {
    "collapsed": false,
    "pycharm": {
     "name": "#%%\n",
     "is_executing": false
    }
   }
  },
  {
   "cell_type": "markdown",
   "source": [
    "For batch runs, you can suppress most messages by adding show_messages=False when creating the converter."
   ],
   "metadata": {
    "collapsed": false
   }
  },
  {
   "cell_type": "code",
   "execution_count": null,
   "outputs": [],
   "source": [
    "converter = AMASSDataConverter(npz_data_filename, show_messages=False)"
   ],
   "metadata": {
    "collapsed": false,
    "pycharm": {
     "name": "#%%\n"
    }
   }
  },
  {
   "cell_type": "markdown",
   "source": [
    "You can also call these scripts from the command line using (assuming you're in the right folder)\n",
    "\n",
    "`python AmassData.py 'Path/To/npzFile.npz' 'Path/to/destination/jsonFile.json'`"
   ],
   "metadata": {
    "collapsed": false,
    "pycharm": {
     "name": "#%% md\n"
    }
   }
  }
 ],
 "metadata": {
  "kernelspec": {
   "display_name": "Python 3",
   "language": "python",
   "name": "python3"
  },
  "language_info": {
   "codemirror_mode": {
    "name": "ipython",
    "version": 2
   },
   "file_extension": ".py",
   "mimetype": "text/x-python",
   "name": "python",
   "nbconvert_exporter": "python",
   "pygments_lexer": "ipython2",
   "version": "2.7.6"
  }
 },
 "nbformat": 4,
 "nbformat_minor": 0
}