{
 "cells": [
  {
   "cell_type": "markdown",
   "source": [
    "## This Script shows how to use the conversion scripts to convert AMASS npz data into a Unity-Friendly JSON file."
   ],
   "metadata": {
    "collapsed": false,
    "pycharm": {
     "name": "#%% md\n"
    }
   }
  },
  {
   "cell_type": "markdown",
   "source": [
    "Note that these scripts were written in python 3.8, and therefore probably require at least python 3.6 to run. \n",
    "You'll need an up-to-date version of scipy package since older versions do not include the scipy.spatial.transform module. \n",
    "\n",
    "Requirements:\n",
    "* scipy\n",
    "* numpy\n",
    "* json\n",
    "\n",
    "Run This cell to make sure you have dependencies installed.\n"
   ],
   "metadata": {
    "collapsed": false,
    "pycharm": {
     "name": "#%% md\n"
    }
   }
  },
  {
   "cell_type": "code",
   "execution_count": 1,
   "outputs": [
    {
     "name": "stdout",
     "output_type": "stream",
     "text": [
      "scipy version 1.4.1, good\n",
      "numpy version 1.18.2, good\n",
      "json version 2.0.9, good\n"
     ]
    }
   ],
   "source": [
    "# Check dependencies\n",
    "import h5py\n",
    "import version_check_util as vers\n",
    "import scipy\n",
    "vers.check_version(\"scipy\", scipy.__version__, \"1.4.1\")\n",
    "import numpy\n",
    "vers.check_version(\"numpy\", numpy.__version__, \"1.18.1\")\n",
    "import json\n",
    "vers.check_version(\"json\", json.__version__, \"2.0.9\")\n",
    "\n",
    "# Internal Imports\n",
    "from AmassData import AMASSDataConverter\n"
   ],
   "metadata": {
    "collapsed": false,
    "pycharm": {
     "name": "#%%\n"
    }
   }
  },
  {
   "cell_type": "markdown",
   "source": [
    "# Convert SMPL-H AMASS animation .npz data files to Unity:\n"
   ],
   "metadata": {
    "collapsed": false
   }
  },
  {
   "cell_type": "markdown",
   "source": [
    "Point to smpl-h npz animation file\n"
   ],
   "metadata": {
    "collapsed": false,
    "pycharm": {
     "name": "#%% md\n"
    }
   }
  },
  {
   "cell_type": "code",
   "execution_count": 2,
   "outputs": [],
   "source": [
    "npz_data_filename = 'AMASS_Data/punching_poses.npz'\n"
   ],
   "metadata": {
    "collapsed": false,
    "pycharm": {
     "name": "#%%\n"
    }
   }
  },
  {
   "cell_type": "markdown",
   "source": [
    "Create converter\n"
   ],
   "metadata": {
    "collapsed": false,
    "pycharm": {
     "name": "#%% md\n"
    }
   }
  },
  {
   "cell_type": "code",
   "execution_count": 3,
   "outputs": [
    {
     "name": "stdout",
     "output_type": "stream",
     "text": [
      "gender: female\n",
      "betas: (16,)\n",
      "poses: (234, 156)\n",
      "dmpls: (234, 8)\n",
      "trans: (234, 3)\n",
      "frames detected: 234\n",
      "fps: 60\n"
     ]
    }
   ],
   "source": [
    "converter = AMASSDataConverter(npz_data_filename)\n"
   ],
   "metadata": {
    "collapsed": false,
    "pycharm": {
     "name": "#%%\n"
    }
   }
  },
  {
   "cell_type": "markdown",
   "source": [
    "Write to output .h5 file or .json (full path can be given. this example puts it in the current folder)\n"
   ],
   "metadata": {
    "collapsed": false,
    "pycharm": {
     "name": "#%% md\n"
    }
   }
  },
  {
   "cell_type": "code",
   "execution_count": 4,
   "outputs": [
    {
     "name": "stdout",
     "output_type": "stream",
     "text": [
      "poses: (234, 156)\n",
      "gender: ()\n",
      "mocap_framerate: ()\n",
      "betas: (16,)\n",
      "marker_data: (234, 86, 3)\n",
      "dmpls: (234, 8)\n",
      "marker_labels: (86,)\n",
      "trans: (234, 3)\n",
      "\n",
      "\t*** DONE CONVERSION ***\n",
      "\n"
     ]
    }
   ],
   "source": [
    "h5_name = 'test_data.h5'\n",
    "converter.write_to_h5(h5_name)\n"
   ],
   "metadata": {
    "collapsed": false,
    "pycharm": {
     "name": "#%%\n"
    }
   }
  },
  {
   "cell_type": "code",
   "execution_count": null,
   "outputs": [],
   "source": [
    "json_name = 'test_data.json'\n",
    "converter.write_to_json(json_name)"
   ],
   "metadata": {
    "collapsed": false,
    "pycharm": {
     "name": "#%%\n"
    }
   }
  },
  {
   "cell_type": "code",
   "execution_count": 2,
   "outputs": [
    {
     "name": "stdout",
     "output_type": "stream",
     "text": [
      "['trans', 'gender', 'mocap_framerate', 'betas', 'dmpls', 'poses']\n",
      "female\n",
      "File: C:/Users/adamb/Downloads/Sample/Dancing1.npz\n",
      "\tgender: female\n",
      "\tbetas: (16,)\n",
      "\tposes: (360, 156)\n",
      "\tdmpls: (360, 8)\n",
      "\ttrans: (360, 3)\n",
      "\tframes detected: 360\n",
      "\tfps: 120\n",
      "File: C:/Users/adamb/Downloads/Sample/Dancing2.npz\n",
      "\tgender: female\n",
      "\tbetas: (16,)\n",
      "\tposes: (360, 156)\n",
      "\tdmpls: (360, 8)\n",
      "\ttrans: (360, 3)\n",
      "\tframes detected: 360\n",
      "\tfps: 120\n",
      "trans: (360, 3)\n",
      "gender: ()\n",
      "Data is probably formatted as unicode, converting to string for h5 compatibility\n",
      "mocap_framerate: ()\n",
      "betas: (16,)\n",
      "dmpls: (360, 8)\n",
      "poses: (360, 156)\n",
      "\n",
      "\t*** DONE CONVERSION ***\n",
      "\n",
      "trans: (360, 3)\n",
      "gender: ()\n",
      "Data is probably formatted as unicode, converting to string for h5 compatibility\n",
      "mocap_framerate: ()\n",
      "betas: (16,)\n",
      "dmpls: (360, 8)\n",
      "poses: (360, 156)\n",
      "\n",
      "\t*** DONE CONVERSION ***\n",
      "\n"
     ]
    }
   ],
   "source": [
    "npz_data_filename = 'C:/Users/adamb/Downloads/Sample/Dancing1.npz'\n",
    "npz_data_filename2 = 'C:/Users/adamb/Downloads/Sample/Dancing2.npz'\n",
    "\n",
    "npzFile = numpy.load(npz_data_filename2)\n",
    "files = npzFile.files\n",
    "print(files)\n",
    "print(npzFile['gender'])\n",
    "\n",
    "converter1 = AMASSDataConverter(npz_data_filename)\n",
    "converter2 = AMASSDataConverter(npz_data_filename2)\n",
    "converter1.write_to_h5('Dancing1.h5')\n",
    "converter2.write_to_h5('Dancing2.h5')\n"
   ],
   "metadata": {
    "collapsed": false,
    "pycharm": {
     "name": "#%%\n"
    }
   }
  },
  {
   "cell_type": "markdown",
   "source": [
    "Second data conversion example\n"
   ],
   "metadata": {
    "collapsed": false,
    "pycharm": {
     "name": "#%% md\n"
    }
   }
  },
  {
   "cell_type": "code",
   "execution_count": 5,
   "outputs": [
    {
     "name": "stdout",
     "text": [
      "120.0\n",
      "gender: male\n",
      "betas: (16,)\n",
      "poses: (601, 156)\n",
      "dmpls: (601, 8)\n",
      "trans: (601, 3)\n",
      "frames detected: 601\n",
      "fps: 120\n"
     ],
     "output_type": "stream"
    }
   ],
   "source": [
    "sample_data = \"AMASS_Data/amass_sample.npz\"\n",
    "converter = AMASSDataConverter(sample_data)\n",
    "converter.write_to_json('amass_sample.json')\n"
   ],
   "metadata": {
    "collapsed": false,
    "pycharm": {
     "name": "#%%\n",
     "is_executing": false
    }
   }
  },
  {
   "cell_type": "markdown",
   "source": [
    "For batch runs, you can suppress most messages by adding show_messages=False when creating the converter."
   ],
   "metadata": {
    "collapsed": false
   }
  },
  {
   "cell_type": "code",
   "execution_count": null,
   "outputs": [],
   "source": [
    "converter = AMASSDataConverter(npz_data_filename, show_messages=False)"
   ],
   "metadata": {
    "collapsed": false,
    "pycharm": {
     "name": "#%%\n"
    }
   }
  },
  {
   "cell_type": "markdown",
   "source": [
    "You can also call these scripts from the command line using (assuming you're in the right folder)\n",
    "\n",
    "`python AmassData.py 'Path/To/npzFile.npz' 'Path/to/destination/jsonFile.json'`"
   ],
   "metadata": {
    "collapsed": false,
    "pycharm": {
     "name": "#%% md\n"
    }
   }
  }
 ],
 "metadata": {
  "kernelspec": {
   "name": "pycharm-8e87507b",
   "language": "python",
   "display_name": "PyCharm (ReadingNumpyDataFromAmass)"
  },
  "language_info": {
   "codemirror_mode": {
    "name": "ipython",
    "version": 2
   },
   "file_extension": ".py",
   "mimetype": "text/x-python",
   "name": "python",
   "nbconvert_exporter": "python",
   "pygments_lexer": "ipython2",
   "version": "2.7.6"
  }
 },
 "nbformat": 4,
 "nbformat_minor": 0
}